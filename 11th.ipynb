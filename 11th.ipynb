{
 "cells": [
  {
   "cell_type": "code",
   "execution_count": 7,
   "id": "f08e187b-636d-4450-b646-027ba3a48e53",
   "metadata": {},
   "outputs": [
    {
     "name": "stdout",
     "output_type": "stream",
     "text": [
      "World alcohol consumption sample data:\n",
      "{'year': [1986, 1986, 1985, 1986, 1987], 'WHO region': ['Western Pacific', 'Americas', 'Africa', 'Americas', 'Americas'], 'Country': ['Viet Nam', 'Uruguay', 'Cte dIvoire', 'Colombia', 'Saint Kitts and Nevis'], 'Types': ['Wine', 'Other', 'Wine', 'Beer', 'Beer']}\n"
     ]
    },
    {
     "ename": "AttributeError",
     "evalue": "'dict' object has no attribute 'shape'",
     "output_type": "error",
     "traceback": [
      "\u001b[1;31m---------------------------------------------------------------------------\u001b[0m",
      "\u001b[1;31mAttributeError\u001b[0m                            Traceback (most recent call last)",
      "Cell \u001b[1;32mIn[7], line 12\u001b[0m\n\u001b[0;32m     10\u001b[0m \u001b[38;5;28mprint\u001b[39m(\u001b[38;5;124m\"\u001b[39m\u001b[38;5;124mWorld alcohol consumption sample data:\u001b[39m\u001b[38;5;124m\"\u001b[39m)\n\u001b[0;32m     11\u001b[0m \u001b[38;5;28mprint\u001b[39m(Sample_data)\n\u001b[1;32m---> 12\u001b[0m \u001b[38;5;28mprint\u001b[39m(\u001b[38;5;124m'\u001b[39m\u001b[38;5;124mShape of the dataFrame:\u001b[39m\u001b[38;5;124m'\u001b[39m,\u001b[43mSample_data\u001b[49m\u001b[38;5;241;43m.\u001b[39;49m\u001b[43mshape\u001b[49m)\n\u001b[0;32m     13\u001b[0m \u001b[38;5;28mprint\u001b[39m(\u001b[38;5;124m'\u001b[39m\u001b[38;5;124mNo of rows:\u001b[39m\u001b[38;5;124m'\u001b[39m,Sample_data\u001b[38;5;241m.\u001b[39mshape[\u001b[38;5;241m0\u001b[39m])\n\u001b[0;32m     14\u001b[0m \u001b[38;5;28mprint\u001b[39m(\u001b[38;5;124m'\u001b[39m\u001b[38;5;124mNo of columns:\u001b[39m\u001b[38;5;124m'\u001b[39m,Sample_data\u001b[38;5;241m.\u001b[39mshape[\u001b[38;5;241m1\u001b[39m])\n",
      "\u001b[1;31mAttributeError\u001b[0m: 'dict' object has no attribute 'shape'"
     ]
    }
   ],
   "source": [
    "import pandas as pd\n",
    "import numpy as np\n",
    "Sample_data = {\"year\":[1986,1986,1985,1986,1987],\n",
    "      \"WHO region\": ['Western Pacific','Americas','Africa','Americas','Americas'],\n",
    "      \"Country\": ['Viet Nam','Uruguay','Cte dIvoire','Colombia','Saint Kitts and Nevis'],\n",
    "      \"Types\": ['Wine','Other','Wine','Beer','Beer']\n",
    "     }\n",
    "\n",
    "df=pd.DataFrame(Sample_data)\n",
    "print(\"World alcohol consumption sample data:\")\n",
    "print(Sample_data)\n",
    "print('Shape of the dataFrame:',Sample_data.shape)\n",
    "print('No of rows:',Sample_data.shape[0])\n",
    "print('No of columns:',Sample_data.shape[1])\n",
    "print('Extract column names')\n",
    "print(Sample_data.columns)"
   ]
  },
  {
   "cell_type": "code",
   "execution_count": null,
   "id": "c7778530-e7c1-402c-bca8-15523f635364",
   "metadata": {},
   "outputs": [],
   "source": []
  }
 ],
 "metadata": {
  "kernelspec": {
   "display_name": "Python 3 (ipykernel)",
   "language": "python",
   "name": "python3"
  },
  "language_info": {
   "codemirror_mode": {
    "name": "ipython",
    "version": 3
   },
   "file_extension": ".py",
   "mimetype": "text/x-python",
   "name": "python",
   "nbconvert_exporter": "python",
   "pygments_lexer": "ipython3",
   "version": "3.11.5"
  }
 },
 "nbformat": 4,
 "nbformat_minor": 5
}
