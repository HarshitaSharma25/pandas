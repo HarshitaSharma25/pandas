{
 "cells": [
  {
   "cell_type": "code",
   "execution_count": 1,
   "id": "40f699cb-f744-4e4b-a85d-203af3fa6a57",
   "metadata": {},
   "outputs": [
    {
     "name": "stdout",
     "output_type": "stream",
     "text": [
      "<module 'numpy._version' from 'C:\\\\Users\\\\91963\\\\AppData\\\\Local\\\\Programs\\\\Python\\\\Python311\\\\Lib\\\\site-packages\\\\numpy\\\\_version.py'>\n"
     ]
    }
   ],
   "source": [
    "import numpy as np\n",
    "print(np._version)"
   ]
  },
  {
   "cell_type": "code",
   "execution_count": null,
   "id": "6801f25f-3b6a-4906-b2af-f9b225cb7827",
   "metadata": {},
   "outputs": [],
   "source": []
  }
 ],
 "metadata": {
  "kernelspec": {
   "display_name": "Python 3 (ipykernel)",
   "language": "python",
   "name": "python3"
  },
  "language_info": {
   "codemirror_mode": {
    "name": "ipython",
    "version": 3
   },
   "file_extension": ".py",
   "mimetype": "text/x-python",
   "name": "python",
   "nbconvert_exporter": "python",
   "pygments_lexer": "ipython3",
   "version": "3.11.5"
  }
 },
 "nbformat": 4,
 "nbformat_minor": 5
}
