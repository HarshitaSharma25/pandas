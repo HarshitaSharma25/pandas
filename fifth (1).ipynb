{
 "cells": [
  {
   "cell_type": "code",
   "execution_count": 10,
   "id": "8fea5d38-21d1-4435-819f-6fad1861b383",
   "metadata": {},
   "outputs": [
    {
     "name": "stdout",
     "output_type": "stream",
     "text": [
      "      name  score  attempts qualify\n",
      "b     Dima    9.0         3      no\n",
      "d    James    NaN         3      no\n",
      "f  Michael   20.0         3     yes\n"
     ]
    }
   ],
   "source": [
    "import pandas as pd \n",
    "import numpy as np\n",
    "exam_data= {\n",
    "    'name':['Anastasia','Dima','Katherine','James','Emily','Michael','Matthew','Laura','Kevin','Jonas'],\n",
    "    'score':[12.5,9,16.5,np.nan,9,20,14.5,np.nan,8,19],\n",
    "    'attempts':[1,3,2,3,2,3,1,1,2,1],\n",
    "    'qualify':['yes','no','yes','no','no','yes','yes','no','no','yes']}\n",
    "labels=['a','b','c','d','e','f','g','h','i','j']\n",
    "df= pd.DataFrame(exam_data,index=labels)\n",
    "print(df[(df['attempts']>2)])"
   ]
  }
 ],
 "metadata": {
  "kernelspec": {
   "display_name": "Python 3 (ipykernel)",
   "language": "python",
   "name": "python3"
  },
  "language_info": {
   "codemirror_mode": {
    "name": "ipython",
    "version": 3
   },
   "file_extension": ".py",
   "mimetype": "text/x-python",
   "name": "python",
   "nbconvert_exporter": "python",
   "pygments_lexer": "ipython3",
   "version": "3.11.5"
  }
 },
 "nbformat": 4,
 "nbformat_minor": 5
}
