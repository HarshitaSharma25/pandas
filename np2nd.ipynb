{
 "cells": [
  {
   "cell_type": "code",
   "execution_count": 2,
   "id": "bd28b734-da2f-4d9e-bc8b-02f9a0bd0fe4",
   "metadata": {},
   "outputs": [
    {
     "name": "stdout",
     "output_type": "stream",
     "text": [
      "[5 6 7 8]\n",
      "test wheather none of the elements of a given array is zero\n",
      "True\n",
      "[5 6 7 0]\n",
      "test wheather none of the elements of a given array is zero\n",
      "False\n"
     ]
    }
   ],
   "source": [
    "import numpy as np\n",
    "x = np.array([5,6,7,8])\n",
    "print(x)\n",
    "print(\"test wheather none of the elements of a given array is zero\")\n",
    "print(np.all(x))\n",
    "y=np.array([5,6,7,0])\n",
    "print(y) \n",
    "print(\"test wheather none of the elements of a given array is zero\")\n",
    "print(np.all(y))"
   ]
  },
  {
   "cell_type": "code",
   "execution_count": null,
   "id": "6b7bc45f-3390-4ceb-bb87-54bd67337412",
   "metadata": {},
   "outputs": [],
   "source": []
  }
 ],
 "metadata": {
  "kernelspec": {
   "display_name": "Python 3 (ipykernel)",
   "language": "python",
   "name": "python3"
  },
  "language_info": {
   "codemirror_mode": {
    "name": "ipython",
    "version": 3
   },
   "file_extension": ".py",
   "mimetype": "text/x-python",
   "name": "python",
   "nbconvert_exporter": "python",
   "pygments_lexer": "ipython3",
   "version": "3.11.5"
  }
 },
 "nbformat": 4,
 "nbformat_minor": 5
}
