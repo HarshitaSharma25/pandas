{
 "cells": [
  {
   "cell_type": "code",
   "execution_count": 2,
   "id": "266e14c6-8f67-4ea8-8943-2b4d76e8baa3",
   "metadata": {},
   "outputs": [
    {
     "name": "stdout",
     "output_type": "stream",
     "text": [
      "Mean score for each different student in data frame:\n",
      "13.5625\n"
     ]
    }
   ],
   "source": [
    "import pandas as pd\n",
    "import numpy as np\n",
    "exam_data={\n",
    "    'name':['Anastasia','Dima','Katherine','James','Emily','Micheal','Matthew','Laura','Kevin','Jonas'],\n",
    "    'score':[12.5,9,16.5,np.nan,9,20,14.5,np.nan,8,19],\n",
    "    'attempts':[1,3,2,3,2,3,1,1,2,1],\n",
    "    'qualify':['yes','no','yes','no','no','yes','yes','no','no','yes']}\n",
    "labels = ['a','b','c','d','e','f','g','h','i','j']\n",
    "df=pd.DataFrame(exam_data,index=labels)\n",
    "print(\"Mean score for each different student in data frame:\")                \n",
    "print(df['score'].mean())"
   ]
  }
 ],
 "metadata": {
  "kernelspec": {
   "display_name": "Python 3 (ipykernel)",
   "language": "python",
   "name": "python3"
  },
  "language_info": {
   "codemirror_mode": {
    "name": "ipython",
    "version": 3
   },
   "file_extension": ".py",
   "mimetype": "text/x-python",
   "name": "python",
   "nbconvert_exporter": "python",
   "pygments_lexer": "ipython3",
   "version": "3.11.5"
  }
 },
 "nbformat": 4,
 "nbformat_minor": 5
}
